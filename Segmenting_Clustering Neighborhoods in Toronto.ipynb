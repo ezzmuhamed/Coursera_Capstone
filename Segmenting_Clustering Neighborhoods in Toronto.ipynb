{
    "nbformat_minor": 1, 
    "cells": [
        {
            "execution_count": 17, 
            "cell_type": "code", 
            "metadata": {}, 
            "outputs": [], 
            "source": "import pandas as pd\nimport wikipedia as wp\n \n"
        }, 
        {
            "execution_count": 18, 
            "cell_type": "code", 
            "metadata": {}, 
            "outputs": [
                {
                    "execution_count": 18, 
                    "metadata": {}, 
                    "data": {
                        "text/plain": "(103, 2)"
                    }, 
                    "output_type": "execute_result"
                }
            ], 
            "source": "#Get the html source\nhtml = wp.page(\"Toronto - FSAs\").html().encode(\"UTF-8\")\ndf = pd.read_html(html)[0]\ndf.to_csv('beautifulsoup_pandas.csv',header=0,index=False)\n#to this point i bring the table put the name of cloumns 0 1 2 i want to replace it by iths name in \n#the first row so i replace it \nheader = df.iloc[0]\n# header file have the name of mu col\ndf = df[1:]\ndf = df.rename(columns = header)\n#i have the correct table \n# remove not assigned from table \ndf = df[df.Borough != 'Not assigned']\n#merage the Neighbourhood have the same postcode and seperate by it by comma\ndf1 = df.groupby(\"Postcode\").agg(lambda x:','.join(set(x)))\n\n# If a cell has a borough but a Not assigned neighborhood, \n# then the neighborhood will be the same as the borough. \n\ndf1.loc[df1['Neighbourhood']==\"Not assigned\",'Neighbourhood']=df1.loc[df1['Neighbourhood']==\"Not assigned\",'Borough']\ndf1.shape"
        }, 
        {
            "execution_count": null, 
            "cell_type": "code", 
            "metadata": {}, 
            "outputs": [], 
            "source": ""
        }
    ], 
    "metadata": {
        "kernelspec": {
            "display_name": "Python 3.5", 
            "name": "python3", 
            "language": "python"
        }, 
        "language_info": {
            "mimetype": "text/x-python", 
            "nbconvert_exporter": "python", 
            "version": "3.5.5", 
            "name": "python", 
            "file_extension": ".py", 
            "pygments_lexer": "ipython3", 
            "codemirror_mode": {
                "version": 3, 
                "name": "ipython"
            }
        }
    }, 
    "nbformat": 4
}